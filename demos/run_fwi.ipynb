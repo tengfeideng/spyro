{
    "cells": [
        {
            "cell_type": "markdown",
            "source": [
                "This use case is more complex and will require more user input. Here we opt to use the ROL library for the optimization"
            ],
            "metadata": {}
        },
        {
            "cell_type": "code",
            "execution_count": null,
            "source": [
                "from firedrake import *\n",
                "import numpy as np\n",
                "import finat\n",
                "from ROL.firedrake_vector import FiredrakeVector as FeVector\n",
                "import ROL\n",
                "from mpi4py import MPI\n",
                "\n",
                "import spyro"
            ],
            "outputs": [],
            "metadata": {}
        },
        {
            "cell_type": "markdown",
            "source": [
                "Using mostly the same parameters as before"
            ],
            "metadata": {}
        },
        {
            "cell_type": "code",
            "execution_count": null,
            "source": [
                "outdir = \"fwi_p4/\"\n",
                "\n",
                "\n",
                "model = {}\n"
            ],
            "outputs": [],
            "metadata": {}
        },
        {
            "cell_type": "markdown",
            "source": [
                "Added a True boolean to the regularization option"
            ],
            "metadata": {}
        },
        {
            "cell_type": "code",
            "execution_count": null,
            "source": [
                "\n",
                "model[\"opts\"] = {\n",
                "    \"method\": \"KMV\",  # either CG or KMV\n",
                "    \"quadratrue\": \"KMV\",  # Equi or KMV\n",
                "    \"degree\": 4,  # p order\n",
                "    \"dimension\": 2,  # dimension\n",
                "    \"regularization\": True,  # regularization is on?\n",
                "    \"gamma\": 1.0, # regularization parameter\n",
                "}\n",
                "model[\"parallelism\"] = {\n",
                "    \"type\": \"spatial\",\n",
                "}\n",
                "model[\"mesh\"] = {\n",
                "    \"Lz\": 12.0,  # depth in km - always positive\n",
                "    \"Lx\": 67.0,  # width in km - always positive\n",
                "    \"Ly\": 0.0,  # thickness in km - always positive\n",
                "    \"meshfile\": \"meshes/heterogeneous.msh\",\n",
                "    \"initmodel\": \"not_used.hdf5\",\n",
                "    \"truemodel\": \"velocity_models/bp2004.hdf5\",\n",
                "}\n",
                "model[\"BCs\"] = {\n",
                "    \"status\": True,  # True or false\n",
                "    \"outer_bc\": \"non-reflective\",  #  None or non-reflective (outer boundary condition)\n",
                "    \"damping_type\": \"polynomial\",  # polynomial, hyperbolic, shifted_hyperbolic\n",
                "    \"exponent\": 2,  # damping layer has a exponent variation\n",
                "    \"cmax\": 4.5,  # maximum acoustic wave velocity in PML - km/s\n",
                "    \"R\": 1e-6,  # theoretical reflection coefficient\n",
                "    \"lz\": 0.9,  # thickness of the PML in the z-direction (km) - always positive\n",
                "    \"lx\": 0.9,  # thickness of the PML in the x-direction (km) - always positive\n",
                "    \"ly\": 0.0,  # thickness of the PML in the y-direction (km) - always positive\n",
                "}\n"
            ],
            "outputs": [],
            "metadata": {}
        },
        {
            "cell_type": "markdown",
            "source": [
                "To 'illuminate' more of the domain I added significantly more shots then the forward demo"
            ],
            "metadata": {}
        },
        {
            "cell_type": "code",
            "execution_count": null,
            "source": [
                "\n",
                "model[\"acquisition\"] = {\n",
                "    \"source_type\": \"Ricker\",\n",
                "    \"num_sources\": 40,\n",
                "    \"source_pos\": spyro.create_transect((-0.01, 10.0), (-0.01, 50.0), 40),\n",
                "    \"frequency\": 5.0,\n",
                "    \"delay\": 1.0,\n",
                "    \"num_receivers\": 500,\n",
                "    \"receiver_locations\": spyro.create_transect((-1.0, 5), (-1.0, 60), 500),\n",
                "}\n",
                "model[\"timeaxis\"] = {\n",
                "    \"t0\": 0.0,  #  Initial time for event\n",
                "    \"tf\": 6.00,  # Final time for event\n",
                "    \"dt\": 0.001,\n",
                "    \"amplitude\": 1,  # the Ricker has an amplitude of 1.\n",
                "    \"nspool\": 1000,  # how frequently to output solution to pvds\n",
                "    \"fspool\": 10,  # how frequently to save solution to RAM\n",
                "}"
            ],
            "outputs": [],
            "metadata": {}
        },
        {
            "cell_type": "markdown",
            "source": [
                "Before anything else we need to build the MPI communicator and read both the mesh and provided velocity model."
            ],
            "metadata": {}
        },
        {
            "cell_type": "code",
            "execution_count": null,
            "source": [
                "comm = spyro.utils.mpi_init(model)\n",
                "mesh, V = spyro.io.read_mesh(model, comm)\n",
                "vp = spyro.io.interpolate(model, mesh, V, guess=True)"
            ],
            "outputs": [],
            "metadata": {}
        },
        {
            "cell_type": "markdown",
            "source": [
                "For FWI we need a starting point, also called our initial guess. It's usually not too far off from our true model. Here I use an initial guess based on our true model after applying a gaussian filter to smooth it. This is done on comm.ensemble_comm.rank == 0."
            ],
            "metadata": {}
        },
        {
            "cell_type": "code",
            "execution_count": null,
            "source": [
                "if comm.ensemble_comm.rank == 0:\n",
                "    File(\"guess_velocity.pvd\", comm=comm.comm).write(vp)"
            ],
            "outputs": [],
            "metadata": {}
        },
        {
            "cell_type": "markdown",
            "source": [
                "We also need to find the sources and receivers in the mesh. Even if you plan on using source encoding or a supershot this only needs to be ran once and already saves all the operatores needed for source injection and receiver interpolation. "
            ],
            "metadata": {}
        },
        {
            "cell_type": "code",
            "execution_count": null,
            "source": [
                "sources = spyro.Sources(model, mesh, V, comm)\n",
                "receivers = spyro.Receivers(model, mesh, V, comm)\n",
                "wavelet = spyro.full_ricker_wavelet(\n",
                "    dt=model[\"timeaxis\"][\"dt\"],\n",
                "    tf=model[\"timeaxis\"][\"tf\"],\n",
                "    freq=model[\"acquisition\"][\"frequency\"],\n",
                ")"
            ],
            "outputs": [],
            "metadata": {}
        },
        {
            "cell_type": "markdown",
            "source": [
                "Let's setup files to visualize our control and gradient"
            ],
            "metadata": {}
        },
        {
            "cell_type": "code",
            "execution_count": null,
            "source": [
                "if comm.ensemble_comm.rank == 0:\n",
                "    control_file = File(outdir + \"control.pvd\", comm=comm.comm)\n",
                "    grad_file = File(outdir + \"grad.pvd\", comm=comm.comm)"
            ],
            "outputs": [],
            "metadata": {}
        },
        {
            "cell_type": "markdown",
            "source": [
                "This next section should be made cleaner in the future since we already call this quadrature rule inside spyro. Here we get the KMV quadrature rule. If you are using stadanrt Lagrange elements this isn't necessary, but when using GLL spectral elements you also have to specify it."
            ],
            "metadata": {}
        },
        {
            "cell_type": "code",
            "execution_count": null,
            "source": [
                "quad_rule = finat.quadrature.make_quadrature(\n",
                "    V.finat_element.cell, V.ufl_element().degree(), \"KMV\"\n",
                ")\n",
                "dxlump = dx(rule=quad_rule)"
            ],
            "outputs": [],
            "metadata": {}
        },
        {
            "cell_type": "markdown",
            "source": [
                "One of the common practices of FWI is to identity the water layer so we can mask it later"
            ],
            "metadata": {}
        },
        {
            "cell_type": "code",
            "execution_count": null,
            "source": [
                "water = np.where(vp.dat.data[:] < 1.51)"
            ],
            "outputs": [],
            "metadata": {}
        },
        {
            "cell_type": "markdown",
            "source": [
                "We need to give ROL our inner product so we define it first"
            ],
            "metadata": {}
        },
        {
            "cell_type": "code",
            "execution_count": null,
            "source": [
                "class L2Inner(object):\n",
                "    def __init__(self):\n",
                "        self.A = assemble(\n",
                "            TrialFunction(V) * TestFunction(V) * dxlump, mat_type=\"matfree\"\n",
                "        )\n",
                "        self.Ap = as_backend_type(self.A).mat()\n",
                "\n",
                "    def eval(self, _u, _v):\n",
                "        upet = as_backend_type(_u).vec()\n",
                "        vpet = as_backend_type(_v).vec()\n",
                "        A_u = self.Ap.createVecLeft()\n",
                "        self.Ap.mult(upet, A_u)\n",
                "        return vpet.dot(A_u)"
            ],
            "outputs": [],
            "metadata": {}
        },
        {
            "cell_type": "markdown",
            "source": [],
            "metadata": {}
        },
        {
            "cell_type": "code",
            "execution_count": null,
            "source": [
                "def regularize_gradient(vp, dJ):\n",
                "    \"\"\"Tikhonov regularization\"\"\"\n",
                "    m_u = TrialFunction(V)\n",
                "    m_v = TestFunction(V)\n",
                "    mgrad = m_u * m_v * dx(rule=qr_x)\n",
                "    ffG = dot(grad(vp), grad(m_v)) * dx(rule=qr_x)\n",
                "    G = mgrad - ffG\n",
                "    lhsG, rhsG = lhs(G), rhs(G)\n",
                "    gradreg = Function(V)\n",
                "    grad_prob = LinearVariationalProblem(lhsG, rhsG, gradreg)\n",
                "    grad_solver = LinearVariationalSolver(\n",
                "        grad_prob,\n",
                "        solver_parameters={\n",
                "            \"ksp_type\": \"preonly\",\n",
                "            \"pc_type\": \"jacobi\",\n",
                "            \"mat_type\": \"matfree\",\n",
                "        },\n",
                "    )\n",
                "    grad_solver.solve()\n",
                "    dJ += gradreg\n",
                "    return dJ"
            ],
            "outputs": [],
            "metadata": {}
        },
        {
            "cell_type": "markdown",
            "source": [
                "We define our objective functional and its gradient"
            ],
            "metadata": {}
        },
        {
            "cell_type": "code",
            "execution_count": null,
            "source": [
                "class Objective(ROL.Objective):\n",
                "    def __init__(self, inner_product):\n",
                "        ROL.Objective.__init__(self)\n",
                "        self.inner_product = inner_product\n",
                "        self.p_guess = None\n",
                "        self.misfit = 0.0\n",
                "        self.p_exact_recv = spyro.io.load_shots(model, comm)\n",
                "\n",
                "    def value(self, x, tol):\n",
                "        \"\"\"Compute the functional\"\"\"\n",
                "        J_total = np.zeros((1))\n",
                "        self.p_guess, p_guess_recv = spyro.solvers.forward(\n",
                "            model,\n",
                "            mesh,\n",
                "            comm,\n",
                "            vp,\n",
                "            sources,\n",
                "            wavelet,\n",
                "            receivers,\n",
                "        )\n",
                "        self.misfit = spyro.utils.evaluate_misfit(\n",
                "            model, p_guess_recv, self.p_exact_recv\n",
                "        )\n",
                "        J_total[0] += spyro.utils.compute_functional(model, self.misfit, velocity=vp)\n",
                "        J_total = COMM_WORLD.allreduce(J_total, op=MPI.SUM)\n",
                "        J_total[0] /= comm.ensemble_comm.size\n",
                "        if comm.comm.size > 1:\n",
                "            J_total[0] /= comm.comm.size\n",
                "        return J_total[0]\n",
                "\n",
                "    def gradient(self, g, x, tol):\n",
                "        \"\"\"Compute the gradient of the functional\"\"\"\n",
                "        dJ = Function(V, name=\"gradient\")\n",
                "        dJ_local = spyro.solvers.gradient(\n",
                "            model,\n",
                "            mesh,\n",
                "            comm,\n",
                "            vp,\n",
                "            receivers,\n",
                "            self.p_guess,\n",
                "            self.misfit,\n",
                "        )\n",
                "        if comm.ensemble_comm.size > 1:\n",
                "            comm.allreduce(dJ_local, dJ)\n",
                "        else:\n",
                "            dJ = dJ_local\n",
                "        dJ /= comm.ensemble_comm.size\n",
                "        if comm.comm.size > 1:\n",
                "            dJ /= comm.comm.size\n",
                "        # regularize the gradient if asked.\n",
                "        if model['opts']['regularization']:\n",
                "            dJ = regularize_gradient(vp, dJ)\n",
                "        # mask the water layer\n",
                "        dJ.dat.data[water] = 0.0\n",
                "        # Visualize\n",
                "        if comm.ensemble_comm.rank == 0:\n",
                "            grad_file.write(dJ)\n",
                "        g.scale(0)\n",
                "        g.vec += dJ\n",
                "\n",
                "    def update(self, x, flag, iteration):\n",
                "        vp.assign(Function(V, x.vec, name=\"velocity\"))\n",
                "        # If iteration reduces functional, save it.\n",
                "        if iteration >= 0:\n",
                "            if comm.ensemble_comm.rank == 0:\n",
                "                control_file.write(vp)"
            ],
            "outputs": [],
            "metadata": {}
        },
        {
            "cell_type": "markdown",
            "source": [
                "Optimization parameters to pass to ROL"
            ],
            "metadata": {}
        },
        {
            "cell_type": "code",
            "execution_count": null,
            "source": [
                "paramsDict = {\n",
                "    \"General\": {\"Secant\": {\"Type\": \"Limited-Memory BFGS\", \"Maximum Storage\": 10}},\n",
                "    \"Step\": {\n",
                "        \"Type\": \"Augmented Lagrangian\",\n",
                "        \"Augmented Lagrangian\": {\n",
                "            \"Subproblem Step Type\": \"Line Search\",\n",
                "            \"Subproblem Iteration Limit\": 5.0,\n",
                "        },\n",
                "        \"Line Search\": {\"Descent Method\": {\"Type\": \"Quasi-Newton Step\"}},\n",
                "    },\n",
                "    \"Status Test\": {\n",
                "        \"Gradient Tolerance\": 1e-16,\n",
                "        \"Iteration Limit\": 100,\n",
                "        \"Step Tolerance\": 1.0e-16,\n",
                "    },\n",
                "}\n",
                "\n",
                "params = ROL.ParameterList(paramsDict, \"Parameters\")"
            ],
            "outputs": [],
            "metadata": {}
        },
        {
            "cell_type": "markdown",
            "source": [
                "Using our L2 inner product"
            ],
            "metadata": {}
        },
        {
            "cell_type": "code",
            "execution_count": null,
            "source": [
                "inner_product = L2Inner()\n",
                "\n",
                "obj = Objective(inner_product)"
            ],
            "outputs": [],
            "metadata": {}
        },
        {
            "cell_type": "markdown",
            "source": [
                "Defining a UFL function to hold our velocity values and passing it's vector component"
            ],
            "metadata": {}
        },
        {
            "cell_type": "code",
            "execution_count": null,
            "source": [
                "u = Function(V, name=\"velocity\").assign(vp)\n",
                "opt = FeVector(u.vector(), inner_product)"
            ],
            "outputs": [],
            "metadata": {}
        },
        {
            "cell_type": "markdown",
            "source": [
                "I don't like how ROL disrespects our bounds we have to look into this"
            ],
            "metadata": {}
        },
        {
            "cell_type": "code",
            "execution_count": null,
            "source": [
                "# Add control bounds to the problem (uses more RAM)\n",
                "xlo = Function(V)\n",
                "xlo.interpolate(Constant(1.0))\n",
                "x_lo = FeVector(xlo.vector(), inner_product)\n",
                "xup = Function(V)\n",
                "xup.interpolate(Constant(5.0))\n",
                "x_up = FeVector(xup.vector(), inner_product)\n",
                "\n",
                "bnd = ROL.Bounds(x_lo, x_up, 1.0)"
            ],
            "outputs": [],
            "metadata": {}
        },
        {
            "cell_type": "markdown",
            "source": [
                "Finally doing the line search"
            ],
            "metadata": {}
        },
        {
            "cell_type": "code",
            "execution_count": null,
            "source": [
                "# Set up the line search\n",
                "algo = ROL.Algorithm(\"Line Search\", params)\n",
                "\n",
                "algo.run(opt, obj, bnd)\n",
                "\n",
                "if comm.ensemble_comm.rank == 0:\n",
                "    File(\"res.pvd\", comm=comm.comm).write(obj.vp)"
            ],
            "outputs": [],
            "metadata": {}
        }
    ],
    "metadata": {
        "orig_nbformat": 4,
        "language_info": {
            "name": "python",
            "version": "3.6.9"
        },
        "kernelspec": {
            "name": "python3",
            "display_name": "Python 3.6.9 64-bit"
        },
        "interpreter": {
            "hash": "4a585ec242412e8f9cbef1d744f6f4f5fa872b646ac5ebd4bfdda4b3f19add0e"
        }
    },
    "nbformat": 4,
    "nbformat_minor": 2
}