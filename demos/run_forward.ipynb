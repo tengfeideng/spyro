{
    "cells": [
        {
            "cell_type": "markdown",
            "source": [
                "Lest start by importing spyro. You need to be inside the Firedrake venv for spyro to work"
            ],
            "metadata": {}
        },
        {
            "cell_type": "code",
            "execution_count": 1,
            "source": [
                "import spyro"
            ],
            "outputs": [],
            "metadata": {}
        },
        {
            "cell_type": "markdown",
            "source": [
                "Spyro uses a dictionary for all user defined variables"
            ],
            "metadata": {}
        },
        {
            "cell_type": "code",
            "execution_count": 2,
            "source": [
                "model = {}\n"
            ],
            "outputs": [],
            "metadata": {}
        },
        {
            "cell_type": "markdown",
            "source": [
                "Right now spyro works with 2D and 3D elements, using mass-lumped higher order (2 to 5 in 2d, 2 and 3 in 3d) elements, Lagrange elements (any order) and spectral quadrilateral elements with GLL nodes (any order)"
            ],
            "metadata": {}
        },
        {
            "cell_type": "code",
            "execution_count": 3,
            "source": [
                "\n",
                "model[\"opts\"] = {\n",
                "    \"method\": \"KMV\",  # either CG or KMV\n",
                "    \"quadratrue\": \"KMV\",  # Equi or KMV\n",
                "    \"degree\": 4,  # p order\n",
                "    \"dimension\": 2,  # dimension\n",
                "}\n"
            ],
            "outputs": [],
            "metadata": {}
        },
        {
            "cell_type": "markdown",
            "source": [
                "Right now let's stick with spatial paralellism. We also support ensemble parallelism and we can do parallelism with different source numbers per core. However, this last feature is not yet automatically supported so you would have to set it up manually"
            ],
            "metadata": {}
        },
        {
            "cell_type": "code",
            "execution_count": 4,
            "source": [
                "model[\"parallelism\"] = {\n",
                "    \"type\": \"spatial\",\n",
                "}\n"
            ],
            "outputs": [],
            "metadata": {}
        },
        {
            "cell_type": "markdown",
            "source": [
                "Mesh data is also part of the dictionary. "
            ],
            "metadata": {}
        },
        {
            "cell_type": "code",
            "execution_count": 5,
            "source": [
                "model[\"mesh\"] = {\n",
                "    \"Lz\": 12.0,  # depth in km - always positive\n",
                "    \"Lx\": 67.0,  # width in km - always positive\n",
                "    \"Ly\": 0.0,  # thickness in km - always positive\n",
                "    \"meshfile\": \"meshes/heterogeneous.msh\",\n",
                "    \"initmodel\": \"not_used.hdf5\",\n",
                "    \"truemodel\": \"velocity_models/bp2004.hdf5\",\n",
                "}\n"
            ],
            "outputs": [],
            "metadata": {}
        },
        {
            "cell_type": "markdown",
            "source": [
                "The BCs parameters also deal with the PML layer."
            ],
            "metadata": {}
        },
        {
            "cell_type": "code",
            "execution_count": 6,
            "source": [
                "model[\"BCs\"] = {\n",
                "    \"status\": True,  # True or false\n",
                "    \"outer_bc\": \"non-reflective\",  #  None or non-reflective (outer boundary condition)\n",
                "    \"damping_type\": \"polynomial\",  # polynomial, hyperbolic, shifted_hyperbolic\n",
                "    \"exponent\": 2,  # damping layer has a exponent variation\n",
                "    \"cmax\": 4.5,  # maximum acoustic wave velocity in PML - km/s\n",
                "    \"R\": 1e-6,  # theoretical reflection coefficient\n",
                "    \"lz\": 0.9,  # thickness of the PML in the z-direction (km) - always positive\n",
                "    \"lx\": 0.9,  # thickness of the PML in the x-direction (km) - always positive\n",
                "    \"ly\": 0.0,  # thickness of the PML in the y-direction (km) - always positive\n",
                "}\n"
            ],
            "outputs": [],
            "metadata": {}
        },
        {
            "cell_type": "markdown",
            "source": [
                "Some details in this next section are going to be discontinued in the near future. For example there's no need to name the number of sources and receivers since we can count them in the list provided."
            ],
            "metadata": {}
        },
        {
            "cell_type": "code",
            "execution_count": 7,
            "source": [
                "model[\"acquisition\"] = {\n",
                "    \"source_type\": \"Ricker\",\n",
                "    \"num_sources\": 1,\n",
                "    \"source_pos\": [(-0.1,67.0/2.0)],\n",
                "    \"frequency\": 5.0,\n",
                "    \"delay\": 1.0,\n",
                "    \"num_receivers\": 20,\n",
                "    \"receiver_locations\": spyro.create_transect((-5.0, 67.0/2.0-5.0), (-5.0, 67.0/2.0+5.0), 20),\n",
                "}\n"
            ],
            "outputs": [],
            "metadata": {}
        },
        {
            "cell_type": "markdown",
            "source": [
                "In case you need help defining the maximum stable dt for a problem we can use the provided tools package"
            ],
            "metadata": {}
        },
        {
            "cell_type": "code",
            "execution_count": 8,
            "source": [
                "model[\"timeaxis\"] = {\n",
                "    \"t0\": 0.0,  #  Initial time for event\n",
                "    \"tf\": 5.00,  # Final time for event\n",
                "    \"dt\": 0.001,\n",
                "    \"amplitude\": 1,  # the Ricker has an amplitude of 1.\n",
                "    \"nspool\": 100,  # how frequently to output solution to pvds\n",
                "    \"fspool\": 99999,  # how frequently to save solution to RAM\n",
                "}"
            ],
            "outputs": [],
            "metadata": {}
        },
        {
            "cell_type": "markdown",
            "source": [
                "Now that the user defined varibles are out of the way we can actually use spyro. Before anything else we need to build the MPI communicator and read both the mesh and provided velocity model."
            ],
            "metadata": {}
        },
        {
            "cell_type": "code",
            "execution_count": 9,
            "source": [
                "comm = spyro.utils.mpi_init(model)\n",
                "mesh, V = spyro.io.read_mesh(model, comm)\n",
                "vp = spyro.io.interpolate(model, mesh, V, guess=False)"
            ],
            "outputs": [
                {
                    "output_type": "stream",
                    "name": "stdout",
                    "text": [
                        "INFO: Distributing 1 shot(s) across 1 core(s). Each shot is using 1 cores\n",
                        "  rank 0 on ensemble 0 owns 34503 elements and can access 17658 vertices\n",
                        "INFO: converting from m/s to km/s\n"
                    ]
                }
            ],
            "metadata": {}
        },
        {
            "cell_type": "markdown",
            "source": [
                "We also need to find the sources and receivers in the mesh. Even if you plan on using source encoding or a supershot this only needs to be ran once and already saves all the operatores needed for source injection and receiver interpolation. "
            ],
            "metadata": {}
        },
        {
            "cell_type": "code",
            "execution_count": 10,
            "source": [
                "sources = spyro.Sources(model, mesh, V, comm)\n",
                "receivers = spyro.Receivers(model, mesh, V, comm)"
            ],
            "outputs": [],
            "metadata": {}
        },
        {
            "cell_type": "markdown",
            "source": [
                "Our sources class only has the operators and source locations but doesn't define the source's scalar value over time. This can be done individually for each source or we can define them all right now:"
            ],
            "metadata": {}
        },
        {
            "cell_type": "code",
            "execution_count": 11,
            "source": [
                "wavelet = spyro.full_ricker_wavelet(\n",
                "    dt=model[\"timeaxis\"][\"dt\"],\n",
                "    tf=model[\"timeaxis\"][\"tf\"],\n",
                "    freq=model[\"acquisition\"][\"frequency\"],\n",
                ")"
            ],
            "outputs": [],
            "metadata": {}
        },
        {
            "cell_type": "markdown",
            "source": [
                "Now all we have to do is call the forward solver method which return the full pressure wavefield (which we might have to use on gradient calculation) and the recorded pressure on our receivers (that we can use for our cost funcitonal)"
            ],
            "metadata": {}
        },
        {
            "cell_type": "code",
            "execution_count": 12,
            "source": [
                "p, p_r = spyro.solvers.forward(model, mesh, comm, vp, sources, wavelet, receivers)"
            ],
            "outputs": [
                {
                    "output_type": "stream",
                    "name": "stdout",
                    "text": [
                        "Simulation time is:     0.0495 seconds\n",
                        "Simulation time is:     0.0995 seconds\n",
                        "Simulation time is:     0.1495 seconds\n",
                        "Simulation time is:     0.1995 seconds\n",
                        "Simulation time is:     0.2495 seconds\n",
                        "Simulation time is:     0.2995 seconds\n",
                        "Simulation time is:     0.3495 seconds\n",
                        "Simulation time is:     0.3995 seconds\n",
                        "Simulation time is:     0.4495 seconds\n",
                        "Simulation time is:     0.4995 seconds\n",
                        "Simulation time is:     0.5495 seconds\n",
                        "Simulation time is:     0.5995 seconds\n",
                        "Simulation time is:     0.6495 seconds\n",
                        "Simulation time is:     0.6995 seconds\n",
                        "Simulation time is:     0.7495 seconds\n",
                        "Simulation time is:     0.7995 seconds\n",
                        "Simulation time is:     0.8495 seconds\n",
                        "Simulation time is:     0.8995 seconds\n",
                        "Simulation time is:     0.9495 seconds\n",
                        "Simulation time is:     0.9995 seconds\n",
                        "Simulation time is:       1.05 seconds\n",
                        "Simulation time is:      1.099 seconds\n",
                        "Simulation time is:      1.149 seconds\n",
                        "Simulation time is:        1.2 seconds\n",
                        "Simulation time is:       1.25 seconds\n",
                        "Simulation time is:        1.3 seconds\n",
                        "Simulation time is:      1.349 seconds\n",
                        "Simulation time is:      1.399 seconds\n",
                        "Simulation time is:       1.45 seconds\n",
                        "Simulation time is:        1.5 seconds\n",
                        "Simulation time is:       1.55 seconds\n",
                        "Simulation time is:        1.6 seconds\n",
                        "Simulation time is:      1.649 seconds\n",
                        "Simulation time is:        1.7 seconds\n",
                        "Simulation time is:       1.75 seconds\n",
                        "Simulation time is:        1.8 seconds\n",
                        "Simulation time is:       1.85 seconds\n",
                        "Simulation time is:      1.899 seconds\n",
                        "Simulation time is:       1.95 seconds\n",
                        "Simulation time is:        2.0 seconds\n",
                        "Simulation time is:       2.05 seconds\n",
                        "Simulation time is:      2.099 seconds\n",
                        "Simulation time is:       2.15 seconds\n",
                        "Simulation time is:        2.2 seconds\n",
                        "Simulation time is:      2.249 seconds\n",
                        "Simulation time is:        2.3 seconds\n",
                        "Simulation time is:      2.349 seconds\n",
                        "Simulation time is:        2.4 seconds\n",
                        "Simulation time is:       2.45 seconds\n",
                        "Simulation time is:      2.499 seconds\n",
                        "Simulation time is:       2.55 seconds\n",
                        "Simulation time is:      2.599 seconds\n",
                        "Simulation time is:       2.65 seconds\n",
                        "Simulation time is:        2.7 seconds\n",
                        "Simulation time is:       2.75 seconds\n",
                        "Simulation time is:        2.8 seconds\n",
                        "Simulation time is:      2.849 seconds\n",
                        "Simulation time is:        2.9 seconds\n",
                        "Simulation time is:       2.95 seconds\n",
                        "Simulation time is:        3.0 seconds\n",
                        "Simulation time is:       3.05 seconds\n",
                        "Simulation time is:      3.099 seconds\n",
                        "Simulation time is:       3.15 seconds\n",
                        "Simulation time is:        3.2 seconds\n",
                        "Simulation time is:       3.25 seconds\n",
                        "Simulation time is:        3.3 seconds\n",
                        "Simulation time is:      3.349 seconds\n",
                        "Simulation time is:        3.4 seconds\n",
                        "Simulation time is:       3.45 seconds\n",
                        "Simulation time is:        3.5 seconds\n",
                        "Simulation time is:       3.55 seconds\n",
                        "Simulation time is:      3.599 seconds\n",
                        "Simulation time is:       3.65 seconds\n",
                        "Simulation time is:        3.7 seconds\n",
                        "Simulation time is:       3.75 seconds\n",
                        "Simulation time is:        3.8 seconds\n",
                        "Simulation time is:      3.849 seconds\n",
                        "Simulation time is:        3.9 seconds\n",
                        "Simulation time is:       3.95 seconds\n",
                        "Simulation time is:        4.0 seconds\n",
                        "Simulation time is:       4.05 seconds\n",
                        "Simulation time is:      4.099 seconds\n",
                        "Simulation time is:      4.149 seconds\n",
                        "Simulation time is:        4.2 seconds\n",
                        "Simulation time is:       4.25 seconds\n",
                        "Simulation time is:        4.3 seconds\n",
                        "Simulation time is:      4.349 seconds\n",
                        "Simulation time is:      4.399 seconds\n",
                        "Simulation time is:       4.45 seconds\n",
                        "Simulation time is:        4.5 seconds\n",
                        "Simulation time is:       4.55 seconds\n",
                        "Simulation time is:      4.599 seconds\n",
                        "Simulation time is:      4.649 seconds\n",
                        "Simulation time is:        4.7 seconds\n",
                        "Simulation time is:       4.75 seconds\n",
                        "Simulation time is:        4.8 seconds\n",
                        "Simulation time is:      4.849 seconds\n",
                        "Simulation time is:      4.899 seconds\n",
                        "Simulation time is:       4.95 seconds\n",
                        "Simulation time is:        5.0 seconds\n",
                        "Simulation time is:       5.05 seconds\n",
                        "Simulation time is:      5.099 seconds\n",
                        "Simulation time is:      5.149 seconds\n",
                        "Simulation time is:        5.2 seconds\n",
                        "Simulation time is:       5.25 seconds\n",
                        "Simulation time is:        5.3 seconds\n",
                        "Simulation time is:      5.349 seconds\n",
                        "Simulation time is:      5.399 seconds\n",
                        "Simulation time is:       5.45 seconds\n",
                        "Simulation time is:        5.5 seconds\n",
                        "Simulation time is:       5.55 seconds\n",
                        "Simulation time is:      5.599 seconds\n",
                        "Simulation time is:      5.649 seconds\n",
                        "Simulation time is:        5.7 seconds\n",
                        "Simulation time is:       5.75 seconds\n",
                        "Simulation time is:        5.8 seconds\n",
                        "Simulation time is:      5.849 seconds\n",
                        "Simulation time is:      5.899 seconds\n",
                        "Simulation time is:       5.95 seconds\n"
                    ]
                }
            ],
            "metadata": {}
        },
        {
            "cell_type": "markdown",
            "source": [],
            "metadata": {}
        },
        {
            "cell_type": "markdown",
            "source": [
                "Spyro also has output functions so we can see our solution"
            ],
            "metadata": {}
        },
        {
            "cell_type": "code",
            "execution_count": 13,
            "source": [
                "spyro.plots.plot_shots(model, comm, p_r, vmin=-1e-3, vmax=1e-3, show=True)\n",
                "spyro.io.save_shots(model, comm, p_r)"
            ],
            "outputs": [
                {
                    "output_type": "display_data",
                    "data": {
                        "text/plain": [
                            "<Figure size 432x288 with 1 Axes>"
                        ],
                        "image/png": "[encoded data removed]"
                    },
                    "metadata": {
                        "needs_background": "light"
                    }
                }
            ],
            "metadata": {}
        }
    ],
    "metadata": {
        "orig_nbformat": 4,
        "language_info": {
            "name": "python",
            "version": "3.6.9",
            "mimetype": "text/x-python",
            "codemirror_mode": {
                "name": "ipython",
                "version": 3
            },
            "pygments_lexer": "ipython3",
            "nbconvert_exporter": "python",
            "file_extension": ".py"
        },
        "kernelspec": {
            "name": "python3",
            "display_name": "Python 3.6.9 64-bit"
        },
        "interpreter": {
            "hash": "4a585ec242412e8f9cbef1d744f6f4f5fa872b646ac5ebd4bfdda4b3f19add0e"
        }
    },
    "nbformat": 4,
    "nbformat_minor": 2
}